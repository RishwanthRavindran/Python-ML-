{
 "cells": [
  {
   "cell_type": "markdown",
   "metadata": {},
   "source": [
    "# __Credit Risk Data__"
   ]
  },
  {
   "cell_type": "markdown",
   "metadata": {},
   "source": [
    "# Importing Required Libraries"
   ]
  },
  {
   "cell_type": "code",
   "execution_count": 1,
   "metadata": {},
   "outputs": [],
   "source": [
    "# Standard Imports\n",
    "import pandas as pd\n",
    "import seaborn as sns\n",
    "import numpy as np\n",
    "import matplotlib.pyplot as plt\n",
    "import pickle\n",
    "\n",
    "# Transformers\n",
    "from sklearn.preprocessing import LabelEncoder, OneHotEncoder, StandardScaler, MinMaxScaler\n",
    "\n",
    "# Modeling Evaluation\n",
    "from sklearn.model_selection import train_test_split, cross_val_score, KFold, GridSearchCV\n",
    "from sklearn.metrics import accuracy_score, precision_score, recall_score,f1_score, confusion_matrix, classification_report\n",
    "from IPython.display import display, Markdown\n",
    "\n",
    "# Pipelines\n",
    "from sklearn.pipeline import Pipeline, FeatureUnion\n",
    "from sklearn.base import BaseEstimator, TransformerMixin\n",
    "from sklearn.compose import ColumnTransformer\n",
    "\n",
    "# Machine Learning\n",
    "from sklearn.tree import DecisionTreeClassifier\n",
    "from sklearn.ensemble import RandomForestClassifier\n",
    "from sklearn.model_selection import KFold\n",
    "from sklearn.neighbors import KNeighborsClassifier"
   ]
  },
  {
   "cell_type": "markdown",
   "metadata": {},
   "source": [
    "# Importing The Dataset"
   ]
  },
  {
   "cell_type": "code",
   "execution_count": 7,
   "metadata": {},
   "outputs": [
    {
     "data": {
      "text/html": [
       "<div>\n",
       "<style scoped>\n",
       "    .dataframe tbody tr th:only-of-type {\n",
       "        vertical-align: middle;\n",
       "    }\n",
       "\n",
       "    .dataframe tbody tr th {\n",
       "        vertical-align: top;\n",
       "    }\n",
       "\n",
       "    .dataframe thead th {\n",
       "        text-align: right;\n",
       "    }\n",
       "</style>\n",
       "<table border=\"1\" class=\"dataframe\">\n",
       "  <thead>\n",
       "    <tr style=\"text-align: right;\">\n",
       "      <th></th>\n",
       "      <th>GoodCredit</th>\n",
       "      <th>checkingstatus1</th>\n",
       "      <th>duration2</th>\n",
       "      <th>history3</th>\n",
       "      <th>purpose4</th>\n",
       "      <th>amount5</th>\n",
       "      <th>savings6</th>\n",
       "      <th>employ7</th>\n",
       "      <th>installment8</th>\n",
       "      <th>status9</th>\n",
       "      <th>...</th>\n",
       "      <th>residence11</th>\n",
       "      <th>property12</th>\n",
       "      <th>age13</th>\n",
       "      <th>otherplans14</th>\n",
       "      <th>housing15</th>\n",
       "      <th>cards16</th>\n",
       "      <th>job17</th>\n",
       "      <th>liable18</th>\n",
       "      <th>tele19</th>\n",
       "      <th>foreign20</th>\n",
       "    </tr>\n",
       "  </thead>\n",
       "  <tbody>\n",
       "    <tr>\n",
       "      <th>0</th>\n",
       "      <td>0</td>\n",
       "      <td>A11</td>\n",
       "      <td>6</td>\n",
       "      <td>A34</td>\n",
       "      <td>A43</td>\n",
       "      <td>1169</td>\n",
       "      <td>A65</td>\n",
       "      <td>A75</td>\n",
       "      <td>4</td>\n",
       "      <td>A93</td>\n",
       "      <td>...</td>\n",
       "      <td>4</td>\n",
       "      <td>A121</td>\n",
       "      <td>67</td>\n",
       "      <td>A143</td>\n",
       "      <td>A152</td>\n",
       "      <td>2</td>\n",
       "      <td>A173</td>\n",
       "      <td>1</td>\n",
       "      <td>A192</td>\n",
       "      <td>A201</td>\n",
       "    </tr>\n",
       "    <tr>\n",
       "      <th>1</th>\n",
       "      <td>1</td>\n",
       "      <td>A12</td>\n",
       "      <td>48</td>\n",
       "      <td>A32</td>\n",
       "      <td>A43</td>\n",
       "      <td>5951</td>\n",
       "      <td>A61</td>\n",
       "      <td>A73</td>\n",
       "      <td>2</td>\n",
       "      <td>A92</td>\n",
       "      <td>...</td>\n",
       "      <td>2</td>\n",
       "      <td>A121</td>\n",
       "      <td>22</td>\n",
       "      <td>A143</td>\n",
       "      <td>A152</td>\n",
       "      <td>1</td>\n",
       "      <td>A173</td>\n",
       "      <td>1</td>\n",
       "      <td>A191</td>\n",
       "      <td>A201</td>\n",
       "    </tr>\n",
       "    <tr>\n",
       "      <th>2</th>\n",
       "      <td>0</td>\n",
       "      <td>A14</td>\n",
       "      <td>12</td>\n",
       "      <td>A34</td>\n",
       "      <td>A46</td>\n",
       "      <td>2096</td>\n",
       "      <td>A61</td>\n",
       "      <td>A74</td>\n",
       "      <td>2</td>\n",
       "      <td>A93</td>\n",
       "      <td>...</td>\n",
       "      <td>3</td>\n",
       "      <td>A121</td>\n",
       "      <td>49</td>\n",
       "      <td>A143</td>\n",
       "      <td>A152</td>\n",
       "      <td>1</td>\n",
       "      <td>A172</td>\n",
       "      <td>2</td>\n",
       "      <td>A191</td>\n",
       "      <td>A201</td>\n",
       "    </tr>\n",
       "    <tr>\n",
       "      <th>3</th>\n",
       "      <td>0</td>\n",
       "      <td>A11</td>\n",
       "      <td>42</td>\n",
       "      <td>A32</td>\n",
       "      <td>A42</td>\n",
       "      <td>7882</td>\n",
       "      <td>A61</td>\n",
       "      <td>A74</td>\n",
       "      <td>2</td>\n",
       "      <td>A93</td>\n",
       "      <td>...</td>\n",
       "      <td>4</td>\n",
       "      <td>A122</td>\n",
       "      <td>45</td>\n",
       "      <td>A143</td>\n",
       "      <td>A153</td>\n",
       "      <td>1</td>\n",
       "      <td>A173</td>\n",
       "      <td>2</td>\n",
       "      <td>A191</td>\n",
       "      <td>A201</td>\n",
       "    </tr>\n",
       "    <tr>\n",
       "      <th>4</th>\n",
       "      <td>1</td>\n",
       "      <td>A11</td>\n",
       "      <td>24</td>\n",
       "      <td>A33</td>\n",
       "      <td>A40</td>\n",
       "      <td>4870</td>\n",
       "      <td>A61</td>\n",
       "      <td>A73</td>\n",
       "      <td>3</td>\n",
       "      <td>A93</td>\n",
       "      <td>...</td>\n",
       "      <td>4</td>\n",
       "      <td>A124</td>\n",
       "      <td>53</td>\n",
       "      <td>A143</td>\n",
       "      <td>A153</td>\n",
       "      <td>2</td>\n",
       "      <td>A173</td>\n",
       "      <td>2</td>\n",
       "      <td>A191</td>\n",
       "      <td>A201</td>\n",
       "    </tr>\n",
       "  </tbody>\n",
       "</table>\n",
       "<p>5 rows × 21 columns</p>\n",
       "</div>"
      ],
      "text/plain": [
       "   GoodCredit checkingstatus1  duration2 history3 purpose4  amount5 savings6  \\\n",
       "0           0             A11          6      A34      A43     1169      A65   \n",
       "1           1             A12         48      A32      A43     5951      A61   \n",
       "2           0             A14         12      A34      A46     2096      A61   \n",
       "3           0             A11         42      A32      A42     7882      A61   \n",
       "4           1             A11         24      A33      A40     4870      A61   \n",
       "\n",
       "  employ7  installment8 status9  ... residence11  property12 age13  \\\n",
       "0     A75             4     A93  ...           4        A121    67   \n",
       "1     A73             2     A92  ...           2        A121    22   \n",
       "2     A74             2     A93  ...           3        A121    49   \n",
       "3     A74             2     A93  ...           4        A122    45   \n",
       "4     A73             3     A93  ...           4        A124    53   \n",
       "\n",
       "   otherplans14 housing15 cards16  job17 liable18  tele19 foreign20  \n",
       "0          A143      A152       2   A173        1    A192      A201  \n",
       "1          A143      A152       1   A173        1    A191      A201  \n",
       "2          A143      A152       1   A172        2    A191      A201  \n",
       "3          A143      A153       1   A173        2    A191      A201  \n",
       "4          A143      A153       2   A173        2    A191      A201  \n",
       "\n",
       "[5 rows x 21 columns]"
      ]
     },
     "execution_count": 7,
     "metadata": {},
     "output_type": "execute_result"
    }
   ],
   "source": [
    "df = pd.read_csv(\"CreditRiskData.csv\")\n",
    "df.head()"
   ]
  },
  {
   "cell_type": "code",
   "execution_count": 12,
   "metadata": {},
   "outputs": [
    {
     "data": {
      "text/plain": [
       "Index(['GoodCredit', 'checkingstatus1', 'duration2', 'history3', 'purpose4',\n",
       "       'amount5', 'savings6', 'employ7', 'installment8', 'status9', 'others10',\n",
       "       'residence11', 'property12', 'age13', 'otherplans14', 'housing15',\n",
       "       'cards16', 'job17', 'liable18', 'tele19', 'foreign20'],\n",
       "      dtype='object')"
      ]
     },
     "execution_count": 12,
     "metadata": {},
     "output_type": "execute_result"
    }
   ],
   "source": [
    "df.columns"
   ]
  },
  {
   "cell_type": "markdown",
   "metadata": {},
   "source": [
    "### __Defining variables for the columns in the dataframe to perform a train test split__"
   ]
  },
  {
   "cell_type": "code",
   "execution_count": 13,
   "metadata": {},
   "outputs": [],
   "source": [
    "numerical_columns = [\"duration2\",\"amount5\",\"age13\"]\n",
    "categorical_columns = [\"checkingstatus1\" ,\"history3\",\"purpose4\",\"savings6\",\"employ7\",\"installment8\",\"status9\",\"others10\",\"residence11\",\"property12\" \n",
    "              ,\"otherplans14\",\"housing15\",\"cards16\",\"job17\",\"liable18\",\"tele19\",\"foreign20\"]"
   ]
  },
  {
   "cell_type": "code",
   "execution_count": 16,
   "metadata": {},
   "outputs": [],
   "source": [
    "#Creating ss transformer to scale the continuous numerical data with StandardScaler()\n",
    "ss = Pipeline(steps=[('ss', StandardScaler())])\n",
    "\n",
    "#Creating ohe transformer to encode the categorical data with OneHotEncoder()\n",
    "ohe = Pipeline(steps=[('ohe', OneHotEncoder(drop='first'))])\n",
    "\n",
    "#Creating preprocess column transformer to combine the ss and ohe pipelines\n",
    "preprocess = ColumnTransformer(\n",
    "                    transformers=[\n",
    "                        ('cont', ss, numerical_columns),\n",
    "                        ('cat', ohe, categorical_columns)\n",
    "                    ])"
   ]
  },
  {
   "cell_type": "markdown",
   "metadata": {},
   "source": [
    "### __Creating evaluation function to plot a confusion matrix and return the accuracy, precision, recall, and f1 scores__"
   ]
  },
  {
   "cell_type": "code",
   "execution_count": 17,
   "metadata": {},
   "outputs": [],
   "source": [
    "def evaluation(y, y_hat, title = 'Confusion Matrix'):\n",
    "    cm = confusion_matrix(y, y_hat)\n",
    "    precision = precision_score(y, y_hat)\n",
    "    recall = recall_score(y, y_hat)\n",
    "    accuracy = accuracy_score(y,y_hat)\n",
    "    f1 = f1_score(y,y_hat)\n",
    "    print('Recall: ', recall)\n",
    "    print('Accuracy: ', accuracy)\n",
    "    print('Precision: ', precision)\n",
    "    print('F1: ', f1)\n",
    "    sns.heatmap(cm,  cmap= 'PuBu', annot=True, fmt='g', annot_kws=    {'size':20})\n",
    "    plt.xlabel('predicted', fontsize=18)\n",
    "    plt.ylabel('actual', fontsize=18)\n",
    "    plt.title(title, fontsize=18)\n",
    "    \n",
    "    plt.show();"
   ]
  },
  {
   "cell_type": "markdown",
   "metadata": {},
   "source": [
    "###  __Performing train_test_split on the data__"
   ]
  },
  {
   "cell_type": "code",
   "execution_count": 19,
   "metadata": {},
   "outputs": [],
   "source": [
    "X = df.drop(['GoodCredit'], axis=1)\n",
    "y = df.GoodCredit\n",
    "y = LabelEncoder().fit_transform(y)\n",
    "X_train, X_test, y_train, y_test = train_test_split(X, y, random_state=42)"
   ]
  },
  {
   "cell_type": "markdown",
   "metadata": {},
   "source": [
    "### __Creating cross_validate function__"
   ]
  },
  {
   "cell_type": "code",
   "execution_count": 25,
   "metadata": {},
   "outputs": [],
   "source": [
    "def cross_validate(classifier, cv):\n",
    "    pipeline = Pipeline(steps=[\n",
    "        ('preprocess', preprocess),\n",
    "        ('classifier', classifier)\n",
    "    ])\n",
    "    train_acc = []\n",
    "    test_acc = []\n",
    "    for train_ind, val_ind in cv.split(X_train, y_train):\n",
    "        X_t, y_t = X_train.iloc[train_ind], y_train[train_ind]\n",
    "        pipeline.fit(X_t, y_t)\n",
    "        y_hat_t = pipeline.predict(X_t)\n",
    "        train_acc.append(accuracy_score(y_t, y_hat_t))\n",
    "        X_val, y_val = X_train.iloc[val_ind], y_train[val_ind]\n",
    "        y_hat_val = pipeline.predict(X_val)\n",
    "        test_acc.append(accuracy_score(y_val, y_hat_val))\n",
    "    print(evaluation(y_val, y_hat_val))\n",
    "    print('Training Accuracy: {}'.format(np.mean(train_acc)))\n",
    "    print('\\n')\n",
    "    print('Validation Accuracy: {}'.format(np.mean(test_acc)))\n",
    "    print('\\n')"
   ]
  },
  {
   "cell_type": "markdown",
   "metadata": {},
   "source": [
    "### __with Decision Tree Classifier__"
   ]
  },
  {
   "cell_type": "code",
   "execution_count": 26,
   "metadata": {},
   "outputs": [
    {
     "name": "stdout",
     "output_type": "stream",
     "text": [
      "Recall:  0.4583333333333333\n",
      "Accuracy:  0.6933333333333334\n",
      "Precision:  0.5238095238095238\n",
      "F1:  0.4888888888888889\n"
     ]
    },
    {
     "data": {
      "image/png": "[encoded data removed]",
      "text/plain": [
       "<Figure size 432x288 with 2 Axes>"
      ]
     },
     "metadata": {
      "needs_background": "light"
     },
     "output_type": "display_data"
    },
    {
     "name": "stdout",
     "output_type": "stream",
     "text": [
      "None\n",
      "Training Accuracy: 1.0\n",
      "\n",
      "\n",
      "Validation Accuracy: 0.6746666666666666\n",
      "\n",
      "\n"
     ]
    }
   ],
   "source": [
    "cross_validate(DecisionTreeClassifier(), KFold())"
   ]
  },
  {
   "cell_type": "markdown",
   "metadata": {},
   "source": [
    "### __With K Nearest Neighbors classifier__"
   ]
  },
  {
   "cell_type": "code",
   "execution_count": 27,
   "metadata": {},
   "outputs": [
    {
     "name": "stdout",
     "output_type": "stream",
     "text": [
      "Recall:  0.25\n",
      "Accuracy:  0.6466666666666666\n",
      "Precision:  0.41379310344827586\n",
      "F1:  0.31168831168831174\n"
     ]
    },
    {
     "data": {
      "image/png": "[encoded data removed]",
      "text/plain": [
       "<Figure size 432x288 with 2 Axes>"
      ]
     },
     "metadata": {
      "needs_background": "light"
     },
     "output_type": "display_data"
    },
    {
     "name": "stdout",
     "output_type": "stream",
     "text": [
      "None\n",
      "Training Accuracy: 0.7946666666666667\n",
      "\n",
      "\n",
      "Validation Accuracy: 0.7013333333333331\n",
      "\n",
      "\n"
     ]
    }
   ],
   "source": [
    "cross_validate(KNeighborsClassifier(), KFold())"
   ]
  },
  {
   "cell_type": "markdown",
   "metadata": {},
   "source": [
    "### __Pipeline With Grid Search__"
   ]
  },
  {
   "cell_type": "code",
   "execution_count": 30,
   "metadata": {},
   "outputs": [],
   "source": [
    "def grid_search(classifier, param_grid, cv):\n",
    "    search = GridSearchCV(Pipeline(steps=[\n",
    "        ('preprocess', preprocess),\n",
    "        ('classifier', classifier)\n",
    "    ]), param_grid, cv=cv)\n",
    "    train_acc = []\n",
    "    test_acc = []\n",
    "    for train_ind, val_ind in cv.split(X_train, y_train):\n",
    "        X_t, y_t = X_train.iloc[train_ind], y_train[train_ind]\n",
    "        search.fit(X_t, y_t)\n",
    "        y_hat_t = search.predict(X_t)\n",
    "        train_acc.append(accuracy_score(y_t, y_hat_t))\n",
    "        X_val, y_val = X_train.iloc[val_ind], y_train[val_ind]\n",
    "        y_hat_val = search.predict(X_val)\n",
    "        test_acc.append(accuracy_score(y_val, y_hat_val))\n",
    "    print(evaluation(y_val, y_hat_val))\n",
    "    print('Training Accuracy: {}'.format(np.mean(train_acc)))\n",
    "    print('\\n')\n",
    "    print('Validation Accuracy: {}'.format(np.mean(test_acc)))\n",
    "    print('\\n')\n",
    "    print('Grid Search Best Params:')\n",
    "    print('\\n')\n",
    "    print(search.best_params_)"
   ]
  },
  {
   "cell_type": "markdown",
   "metadata": {},
   "source": [
    "### __GridSearchCV with Random Forest__"
   ]
  },
  {
   "cell_type": "code",
   "execution_count": 33,
   "metadata": {},
   "outputs": [
    {
     "name": "stdout",
     "output_type": "stream",
     "text": [
      "Recall:  0.3125\n",
      "Accuracy:  0.7066666666666667\n",
      "Precision:  0.5769230769230769\n",
      "F1:  0.4054054054054054\n"
     ]
    },
    {
     "data": {
      "image/png": "[encoded data removed]",
      "text/plain": [
       "<Figure size 432x288 with 2 Axes>"
      ]
     },
     "metadata": {
      "needs_background": "light"
     },
     "output_type": "display_data"
    },
    {
     "name": "stdout",
     "output_type": "stream",
     "text": [
      "None\n",
      "Training Accuracy: 0.986\n",
      "\n",
      "\n",
      "Validation Accuracy: 0.728\n",
      "\n",
      "\n",
      "Grid Search Best Params:\n",
      "\n",
      "\n",
      "{'classifier__max_depth': 50, 'classifier__min_samples_leaf': 1, 'classifier__min_samples_split': 5, 'classifier__n_estimators': 100}\n"
     ]
    }
   ],
   "source": [
    "#Creating parameter grid for Random Forest\n",
    "rand_forest_parms = {'classifier__n_estimators': [100, 300, 500],\n",
    "                     'classifier__max_depth':[6, 25, 50, 70],\n",
    "                     'classifier__min_samples_split': [2, 5, 10],\n",
    "                     'classifier__min_samples_leaf': [1, 2, 10]}\n",
    "#Calling the grid_search function using the parameters above\n",
    "grid_search(RandomForestClassifier(), rand_forest_parms, KFold())"
   ]
  },
  {
   "cell_type": "markdown",
   "metadata": {},
   "source": [
    "### __Fitting final pipeline to X_train and y_train, and predicting on X_test__"
   ]
  },
  {
   "cell_type": "code",
   "execution_count": 34,
   "metadata": {},
   "outputs": [
    {
     "name": "stdout",
     "output_type": "stream",
     "text": [
      "Evaluation on training data \n",
      "\n",
      "Recall:  0.9649122807017544\n",
      "Accuracy:  0.9893333333333333\n",
      "Precision:  1.0\n",
      "F1:  0.9821428571428572\n"
     ]
    },
    {
     "data": {
      "image/png": "[encoded data removed]",
      "text/plain": [
       "<Figure size 432x288 with 2 Axes>"
      ]
     },
     "metadata": {
      "needs_background": "light"
     },
     "output_type": "display_data"
    },
    {
     "name": "stdout",
     "output_type": "stream",
     "text": [
      "None\n",
      "\n",
      "\n",
      "Evaluation on testing data \n",
      "\n",
      "Recall:  0.3194444444444444\n",
      "Accuracy:  0.748\n",
      "Precision:  0.6216216216216216\n",
      "F1:  0.4220183486238532\n"
     ]
    },
    {
     "data": {
      "image/png": "[encoded data removed]",
      "text/plain": [
       "<Figure size 432x288 with 2 Axes>"
      ]
     },
     "metadata": {
      "needs_background": "light"
     },
     "output_type": "display_data"
    },
    {
     "name": "stdout",
     "output_type": "stream",
     "text": [
      "None\n"
     ]
    }
   ],
   "source": [
    "final_pipeline = GridSearchCV(Pipeline(steps=[\n",
    "        ('preprocess', preprocess),\n",
    "        ('classifier', RandomForestClassifier())\n",
    "    ]), rand_forest_parms, cv=KFold())\n",
    "#Fit and predict on train data\n",
    "final_pipeline.fit(X_train, y_train)\n",
    "train_pred = final_pipeline.best_estimator_.predict(X_train)\n",
    "print('Evaluation on training data \\n')\n",
    "print(evaluation(y_train, train_pred))\n",
    "print('\\n')\n",
    "#Predict on test data\n",
    "test_pred = final_pipeline.best_estimator_.predict(X_test)\n",
    "print('Evaluation on testing data \\n')\n",
    "print(evaluation(y_test, test_pred))"
   ]
  }
 ],
 "metadata": {
  "kernelspec": {
   "display_name": "Python 3",
   "language": "python",
   "name": "python3"
  },
  "language_info": {
   "codemirror_mode": {
    "name": "ipython",
    "version": 3
   },
   "file_extension": ".py",
   "mimetype": "text/x-python",
   "name": "python",
   "nbconvert_exporter": "python",
   "pygments_lexer": "ipython3",
   "version": "3.8.3"
  }
 },
 "nbformat": 4,
 "nbformat_minor": 4
}
