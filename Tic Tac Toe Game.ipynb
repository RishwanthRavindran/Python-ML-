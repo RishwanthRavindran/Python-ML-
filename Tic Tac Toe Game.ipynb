{
 "cells": [
  {
   "cell_type": "code",
   "execution_count": null,
   "metadata": {},
   "outputs": [
    {
     "name": "stdout",
     "output_type": "stream",
     "text": [
      " | | \n",
      "-+-+-\n",
      " | | \n",
      "-+-+-\n",
      " | | \n",
      "It's your turn,X.select the place?\n"
     ]
    },
    {
     "name": "stdin",
     "output_type": "stream",
     "text": [
      " 6\n"
     ]
    },
    {
     "name": "stdout",
     "output_type": "stream",
     "text": [
      " | | \n",
      "-+-+-\n",
      " | |X\n",
      "-+-+-\n",
      " | | \n",
      "It's your turn,O.select the place?\n"
     ]
    },
    {
     "name": "stdin",
     "output_type": "stream",
     "text": [
      " 3\n"
     ]
    },
    {
     "name": "stdout",
     "output_type": "stream",
     "text": [
      " | |O\n",
      "-+-+-\n",
      " | |X\n",
      "-+-+-\n",
      " | | \n",
      "It's your turn,X.select the place?\n"
     ]
    },
    {
     "name": "stdin",
     "output_type": "stream",
     "text": [
      " 7\n"
     ]
    },
    {
     "name": "stdout",
     "output_type": "stream",
     "text": [
      " | |O\n",
      "-+-+-\n",
      " | |X\n",
      "-+-+-\n",
      "X| | \n",
      "It's your turn,O.select the place?\n"
     ]
    },
    {
     "name": "stdin",
     "output_type": "stream",
     "text": [
      " 4\n"
     ]
    },
    {
     "name": "stdout",
     "output_type": "stream",
     "text": [
      " | |O\n",
      "-+-+-\n",
      "O| |X\n",
      "-+-+-\n",
      "X| | \n",
      "It's your turn,X.select the place?\n"
     ]
    },
    {
     "name": "stdin",
     "output_type": "stream",
     "text": [
      " 8\n"
     ]
    },
    {
     "name": "stdout",
     "output_type": "stream",
     "text": [
      " | |O\n",
      "-+-+-\n",
      "O| |X\n",
      "-+-+-\n",
      "X|X| \n",
      "It's your turn,O.select the place?\n"
     ]
    },
    {
     "name": "stdin",
     "output_type": "stream",
     "text": [
      " 9\n"
     ]
    },
    {
     "name": "stdout",
     "output_type": "stream",
     "text": [
      " | |O\n",
      "-+-+-\n",
      "O| |X\n",
      "-+-+-\n",
      "X|X|O\n",
      "It's your turn,X.select the place?\n"
     ]
    },
    {
     "name": "stdin",
     "output_type": "stream",
     "text": [
      " 5\n"
     ]
    },
    {
     "name": "stdout",
     "output_type": "stream",
     "text": [
      " | |O\n",
      "-+-+-\n",
      "O|X|X\n",
      "-+-+-\n",
      "X|X|O\n",
      "It's your turn,O.select the place?\n"
     ]
    },
    {
     "name": "stdin",
     "output_type": "stream",
     "text": [
      " 1\n"
     ]
    },
    {
     "name": "stdout",
     "output_type": "stream",
     "text": [
      "O| |O\n",
      "-+-+-\n",
      "O|X|X\n",
      "-+-+-\n",
      "X|X|O\n",
      "It's your turn,X.select the place?\n"
     ]
    },
    {
     "name": "stdin",
     "output_type": "stream",
     "text": [
      " 2\n"
     ]
    },
    {
     "name": "stdout",
     "output_type": "stream",
     "text": [
      "O|X|O\n",
      "-+-+-\n",
      "O|X|X\n",
      "-+-+-\n",
      "X|X|O\n",
      "\n",
      "Game Over.\n",
      "\n",
      "X won \n"
     ]
    }
   ],
   "source": [
    "\n",
    "\n",
    "Board = {'1': ' ' , '2': ' ' , '3': ' ' ,\n",
    "            '4': ' ' , '5': ' ' , '6': ' ' ,\n",
    "            '7': ' ' , '8': ' ' , '9': ' ' }\n",
    "\n",
    "board_keys = []\n",
    "\n",
    "for key in Board:\n",
    "    board_keys.append(key)\n",
    "\n",
    "\n",
    "\n",
    "def printBoard(board):\n",
    "    print(board['1'] + '|' + board['2'] + '|' + board['3'])\n",
    "    print('-+-+-')\n",
    "    print(board['4'] + '|' + board['5'] + '|' + board['6'])\n",
    "    print('-+-+-')\n",
    "    print(board['7'] + '|' + board['8'] + '|' + board['9'])\n",
    "\n",
    "\n",
    "def game():\n",
    "\n",
    "    turn = 'X'\n",
    "    count = 0\n",
    "\n",
    "\n",
    "    for i in range(10):\n",
    "        printBoard(Board)\n",
    "        print(\"It's your turn,\" + turn + \".select the place?\")\n",
    "\n",
    "        move = input()        \n",
    "\n",
    "        if Board[move] == ' ':\n",
    "            Board[move] = turn\n",
    "            count += 1\n",
    "        else:\n",
    "            print(\"That place is already filled.\\n select the place?\")\n",
    "            continue\n",
    "\n",
    "        # Now we will check if player X or O has won,for every move after 5 moves. \n",
    "        if count >= 5:\n",
    "            if Board['1'] == Board['2'] == Board['3'] != ' ': # across the top\n",
    "                printBoard(Board)\n",
    "                print(\"\\nGame Over.\\n\")                \n",
    "                print(turn + \" won \")                \n",
    "                break\n",
    "            elif Board['4'] == Board['5'] == Board['6'] != ' ': # across the middle\n",
    "                printBoard(Board)\n",
    "                print(\"\\nGame Over.\\n\")                \n",
    "                print(turn + \" won \")\n",
    "                break\n",
    "            elif Board['7'] == Board['8'] == Board['9'] != ' ': # across the bottom\n",
    "                printBoard(Board)\n",
    "                print(\"\\nGame Over.\\n\")                \n",
    "                print(turn + \" won \")\n",
    "                break\n",
    "            elif Board['1'] == Board['4'] == Board['7'] != ' ': # down the left side\n",
    "                printBoard(Board)\n",
    "                print(\"\\nGame Over.\\n\")                \n",
    "                print(turn + \" won \")\n",
    "                break\n",
    "            elif Board['2'] == Board['5'] == Board['8'] != ' ': # down the middle\n",
    "                printBoard(Board)\n",
    "                print(\"\\nGame Over.\\n\")                \n",
    "                print(turn + \" won \")\n",
    "                break\n",
    "            elif Board['3'] == Board['6'] == Board['9'] != ' ': # down the right side\n",
    "                printBoard(Board)\n",
    "                print(\"\\nGame Over.\\n\")                \n",
    "                print(turn + \" won \")\n",
    "                break \n",
    "            elif Board['7'] == Board['5'] == Board['3'] != ' ': # diagonal\n",
    "                printBoard(Board)\n",
    "                print(\"\\nGame Over.\\n\")                \n",
    "                print(turn + \" won \")\n",
    "                break\n",
    "            elif Board['1'] == Board['5'] == Board['9'] != ' ': # diagonal\n",
    "                printBoard(Board)\n",
    "                print(\"\\nGame Over.\\n\")                \n",
    "                print(turn + \" won \")\n",
    "                break \n",
    "\n",
    "       \n",
    "        if count == 9:\n",
    "            print(\"\\nGame Over.\\n\")                \n",
    "            print(\"It's a Tie!!\")\n",
    "\n",
    "       \n",
    "        if turn =='X':\n",
    "            turn = 'O'\n",
    "        else:\n",
    "            turn = 'X'        \n",
    "    \n",
    "   \n",
    "    restart = input(\"Do want to play Again?(yes/no)\")\n",
    "    if restart == \"yes\":  \n",
    "        for key in board_keys:\n",
    "            Board[key] = \" \"\n",
    "\n",
    "        game()\n",
    "\n",
    "if __name__ == \"__main__\":\n",
    "    game()"
   ]
  },
  {
   "cell_type": "code",
   "execution_count": null,
   "metadata": {},
   "outputs": [],
   "source": []
  }
 ],
 "metadata": {
  "kernelspec": {
   "display_name": "Python 3",
   "language": "python",
   "name": "python3"
  },
  "language_info": {
   "codemirror_mode": {
    "name": "ipython",
    "version": 3
   },
   "file_extension": ".py",
   "mimetype": "text/x-python",
   "name": "python",
   "nbconvert_exporter": "python",
   "pygments_lexer": "ipython3",
   "version": "3.8.3"
  }
 },
 "nbformat": 4,
 "nbformat_minor": 4
}
