{
 "cells": [
  {
   "cell_type": "markdown",
   "metadata": {},
   "source": [
    "# Regression Modelling"
   ]
  },
  {
   "cell_type": "code",
   "execution_count": 6,
   "metadata": {},
   "outputs": [
    {
     "name": "stdout",
     "output_type": "stream",
     "text": [
      "Pandas Version : Pandas 1.0.5\n",
      "Numpy Version : Numpy 1.18.5\n",
      "Matplotlib Version : Matplotlib 3.2.2\n",
      "Seaborn Version : Seaborn 0.10.1\n"
     ]
    }
   ],
   "source": [
    "import pandas as pd\n",
    "import numpy as np\n",
    "import matplotlib.pyplot as plt\n",
    "import seaborn as sns\n",
    "import matplotlib\n",
    "\n",
    "print(f\"Pandas Version : Pandas {pd.__version__}\") #print(\"Pandas Version : Pandas {}\" ,pd.__version__ )\n",
    "print(f\"Numpy Version : Numpy {np.__version__}\")\n",
    "print(f\"Matplotlib Version : Matplotlib {matplotlib.__version__}\")\n",
    "print(f\"Seaborn Version : Seaborn {sns.__version__}\")\n",
    "%matplotlib inline"
   ]
  },
  {
   "cell_type": "code",
   "execution_count": 7,
   "metadata": {
    "_cell_guid": "135e8ac5-ce46-4a5f-b205-13f827ef33b8",
    "_execution_state": "idle",
    "_uuid": "fc664fbe27561a3697d0210921107b0e14b7d211"
   },
   "outputs": [],
   "source": [
    "from sklearn.linear_model import ElasticNet, Lasso,  BayesianRidge, LassoLarsIC\n",
    "from sklearn.ensemble import RandomForestRegressor,  GradientBoostingRegressor\n",
    "from sklearn.kernel_ridge import KernelRidge\n",
    "from sklearn.model_selection import train_test_split\n",
    "\n",
    "from sklearn.base import BaseEstimator, TransformerMixin, RegressorMixin, clone\n",
    "from sklearn.model_selection import KFold, cross_val_score, train_test_split\n",
    "from sklearn.metrics import mean_squared_error\n",
    "from sklearn.preprocessing import RobustScaler\n",
    "\n",
    "from sklearn.pipeline import make_pipeline"
   ]
  },
  {
   "cell_type": "markdown",
   "metadata": {},
   "source": [
    "# Splitting Train And Test Data"
   ]
  },
  {
   "cell_type": "markdown",
   "metadata": {},
   "source": [
    "### Splitting The Data X_train, y_train, X_test, y_test"
   ]
  },
  {
   "cell_type": "code",
   "execution_count": 8,
   "metadata": {},
   "outputs": [],
   "source": [
    "HouseData = pd.read_csv('Processed_HousePrices.csv')"
   ]
  },
  {
   "cell_type": "code",
   "execution_count": 9,
   "metadata": {},
   "outputs": [
    {
     "data": {
      "text/html": [
       "<div>\n",
       "<style scoped>\n",
       "    .dataframe tbody tr th:only-of-type {\n",
       "        vertical-align: middle;\n",
       "    }\n",
       "\n",
       "    .dataframe tbody tr th {\n",
       "        vertical-align: top;\n",
       "    }\n",
       "\n",
       "    .dataframe thead th {\n",
       "        text-align: right;\n",
       "    }\n",
       "</style>\n",
       "<table border=\"1\" class=\"dataframe\">\n",
       "  <thead>\n",
       "    <tr style=\"text-align: right;\">\n",
       "      <th></th>\n",
       "      <th>LotArea</th>\n",
       "      <th>Street</th>\n",
       "      <th>LotShape</th>\n",
       "      <th>LandSlope</th>\n",
       "      <th>OverallQual</th>\n",
       "      <th>OverallCond</th>\n",
       "      <th>MasVnrArea</th>\n",
       "      <th>ExterQual</th>\n",
       "      <th>ExterCond</th>\n",
       "      <th>BsmtQual</th>\n",
       "      <th>...</th>\n",
       "      <th>SaleType_ConLI</th>\n",
       "      <th>SaleType_ConLw</th>\n",
       "      <th>SaleType_New</th>\n",
       "      <th>SaleType_Oth</th>\n",
       "      <th>SaleType_WD</th>\n",
       "      <th>SaleCondition_AdjLand</th>\n",
       "      <th>SaleCondition_Alloca</th>\n",
       "      <th>SaleCondition_Family</th>\n",
       "      <th>SaleCondition_Normal</th>\n",
       "      <th>SaleCondition_Partial</th>\n",
       "    </tr>\n",
       "  </thead>\n",
       "  <tbody>\n",
       "    <tr>\n",
       "      <th>0</th>\n",
       "      <td>8450</td>\n",
       "      <td>1</td>\n",
       "      <td>1</td>\n",
       "      <td>1</td>\n",
       "      <td>7</td>\n",
       "      <td>5</td>\n",
       "      <td>196.0</td>\n",
       "      <td>1</td>\n",
       "      <td>2</td>\n",
       "      <td>1</td>\n",
       "      <td>...</td>\n",
       "      <td>0</td>\n",
       "      <td>0</td>\n",
       "      <td>0</td>\n",
       "      <td>0</td>\n",
       "      <td>1</td>\n",
       "      <td>0</td>\n",
       "      <td>0</td>\n",
       "      <td>0</td>\n",
       "      <td>1</td>\n",
       "      <td>0</td>\n",
       "    </tr>\n",
       "    <tr>\n",
       "      <th>1</th>\n",
       "      <td>9600</td>\n",
       "      <td>1</td>\n",
       "      <td>1</td>\n",
       "      <td>1</td>\n",
       "      <td>6</td>\n",
       "      <td>8</td>\n",
       "      <td>0.0</td>\n",
       "      <td>2</td>\n",
       "      <td>2</td>\n",
       "      <td>1</td>\n",
       "      <td>...</td>\n",
       "      <td>0</td>\n",
       "      <td>0</td>\n",
       "      <td>0</td>\n",
       "      <td>0</td>\n",
       "      <td>1</td>\n",
       "      <td>0</td>\n",
       "      <td>0</td>\n",
       "      <td>0</td>\n",
       "      <td>1</td>\n",
       "      <td>0</td>\n",
       "    </tr>\n",
       "    <tr>\n",
       "      <th>2</th>\n",
       "      <td>11250</td>\n",
       "      <td>1</td>\n",
       "      <td>2</td>\n",
       "      <td>1</td>\n",
       "      <td>7</td>\n",
       "      <td>5</td>\n",
       "      <td>162.0</td>\n",
       "      <td>1</td>\n",
       "      <td>2</td>\n",
       "      <td>1</td>\n",
       "      <td>...</td>\n",
       "      <td>0</td>\n",
       "      <td>0</td>\n",
       "      <td>0</td>\n",
       "      <td>0</td>\n",
       "      <td>1</td>\n",
       "      <td>0</td>\n",
       "      <td>0</td>\n",
       "      <td>0</td>\n",
       "      <td>1</td>\n",
       "      <td>0</td>\n",
       "    </tr>\n",
       "    <tr>\n",
       "      <th>3</th>\n",
       "      <td>9550</td>\n",
       "      <td>1</td>\n",
       "      <td>2</td>\n",
       "      <td>1</td>\n",
       "      <td>7</td>\n",
       "      <td>5</td>\n",
       "      <td>0.0</td>\n",
       "      <td>2</td>\n",
       "      <td>2</td>\n",
       "      <td>2</td>\n",
       "      <td>...</td>\n",
       "      <td>0</td>\n",
       "      <td>0</td>\n",
       "      <td>0</td>\n",
       "      <td>0</td>\n",
       "      <td>1</td>\n",
       "      <td>0</td>\n",
       "      <td>0</td>\n",
       "      <td>0</td>\n",
       "      <td>0</td>\n",
       "      <td>0</td>\n",
       "    </tr>\n",
       "    <tr>\n",
       "      <th>4</th>\n",
       "      <td>14260</td>\n",
       "      <td>1</td>\n",
       "      <td>2</td>\n",
       "      <td>1</td>\n",
       "      <td>8</td>\n",
       "      <td>5</td>\n",
       "      <td>350.0</td>\n",
       "      <td>1</td>\n",
       "      <td>2</td>\n",
       "      <td>1</td>\n",
       "      <td>...</td>\n",
       "      <td>0</td>\n",
       "      <td>0</td>\n",
       "      <td>0</td>\n",
       "      <td>0</td>\n",
       "      <td>1</td>\n",
       "      <td>0</td>\n",
       "      <td>0</td>\n",
       "      <td>0</td>\n",
       "      <td>1</td>\n",
       "      <td>0</td>\n",
       "    </tr>\n",
       "    <tr>\n",
       "      <th>...</th>\n",
       "      <td>...</td>\n",
       "      <td>...</td>\n",
       "      <td>...</td>\n",
       "      <td>...</td>\n",
       "      <td>...</td>\n",
       "      <td>...</td>\n",
       "      <td>...</td>\n",
       "      <td>...</td>\n",
       "      <td>...</td>\n",
       "      <td>...</td>\n",
       "      <td>...</td>\n",
       "      <td>...</td>\n",
       "      <td>...</td>\n",
       "      <td>...</td>\n",
       "      <td>...</td>\n",
       "      <td>...</td>\n",
       "      <td>...</td>\n",
       "      <td>...</td>\n",
       "      <td>...</td>\n",
       "      <td>...</td>\n",
       "      <td>...</td>\n",
       "    </tr>\n",
       "    <tr>\n",
       "      <th>1455</th>\n",
       "      <td>7917</td>\n",
       "      <td>1</td>\n",
       "      <td>1</td>\n",
       "      <td>1</td>\n",
       "      <td>6</td>\n",
       "      <td>5</td>\n",
       "      <td>0.0</td>\n",
       "      <td>2</td>\n",
       "      <td>2</td>\n",
       "      <td>1</td>\n",
       "      <td>...</td>\n",
       "      <td>0</td>\n",
       "      <td>0</td>\n",
       "      <td>0</td>\n",
       "      <td>0</td>\n",
       "      <td>1</td>\n",
       "      <td>0</td>\n",
       "      <td>0</td>\n",
       "      <td>0</td>\n",
       "      <td>1</td>\n",
       "      <td>0</td>\n",
       "    </tr>\n",
       "    <tr>\n",
       "      <th>1456</th>\n",
       "      <td>13175</td>\n",
       "      <td>1</td>\n",
       "      <td>1</td>\n",
       "      <td>1</td>\n",
       "      <td>6</td>\n",
       "      <td>6</td>\n",
       "      <td>119.0</td>\n",
       "      <td>2</td>\n",
       "      <td>2</td>\n",
       "      <td>1</td>\n",
       "      <td>...</td>\n",
       "      <td>0</td>\n",
       "      <td>0</td>\n",
       "      <td>0</td>\n",
       "      <td>0</td>\n",
       "      <td>1</td>\n",
       "      <td>0</td>\n",
       "      <td>0</td>\n",
       "      <td>0</td>\n",
       "      <td>1</td>\n",
       "      <td>0</td>\n",
       "    </tr>\n",
       "    <tr>\n",
       "      <th>1457</th>\n",
       "      <td>9042</td>\n",
       "      <td>1</td>\n",
       "      <td>1</td>\n",
       "      <td>1</td>\n",
       "      <td>7</td>\n",
       "      <td>9</td>\n",
       "      <td>0.0</td>\n",
       "      <td>3</td>\n",
       "      <td>1</td>\n",
       "      <td>2</td>\n",
       "      <td>...</td>\n",
       "      <td>0</td>\n",
       "      <td>0</td>\n",
       "      <td>0</td>\n",
       "      <td>0</td>\n",
       "      <td>1</td>\n",
       "      <td>0</td>\n",
       "      <td>0</td>\n",
       "      <td>0</td>\n",
       "      <td>1</td>\n",
       "      <td>0</td>\n",
       "    </tr>\n",
       "    <tr>\n",
       "      <th>1458</th>\n",
       "      <td>9717</td>\n",
       "      <td>1</td>\n",
       "      <td>1</td>\n",
       "      <td>1</td>\n",
       "      <td>5</td>\n",
       "      <td>6</td>\n",
       "      <td>0.0</td>\n",
       "      <td>2</td>\n",
       "      <td>2</td>\n",
       "      <td>2</td>\n",
       "      <td>...</td>\n",
       "      <td>0</td>\n",
       "      <td>0</td>\n",
       "      <td>0</td>\n",
       "      <td>0</td>\n",
       "      <td>1</td>\n",
       "      <td>0</td>\n",
       "      <td>0</td>\n",
       "      <td>0</td>\n",
       "      <td>1</td>\n",
       "      <td>0</td>\n",
       "    </tr>\n",
       "    <tr>\n",
       "      <th>1459</th>\n",
       "      <td>9937</td>\n",
       "      <td>1</td>\n",
       "      <td>1</td>\n",
       "      <td>1</td>\n",
       "      <td>5</td>\n",
       "      <td>6</td>\n",
       "      <td>0.0</td>\n",
       "      <td>1</td>\n",
       "      <td>2</td>\n",
       "      <td>2</td>\n",
       "      <td>...</td>\n",
       "      <td>0</td>\n",
       "      <td>0</td>\n",
       "      <td>0</td>\n",
       "      <td>0</td>\n",
       "      <td>1</td>\n",
       "      <td>0</td>\n",
       "      <td>0</td>\n",
       "      <td>0</td>\n",
       "      <td>1</td>\n",
       "      <td>0</td>\n",
       "    </tr>\n",
       "  </tbody>\n",
       "</table>\n",
       "<p>1460 rows × 188 columns</p>\n",
       "</div>"
      ],
      "text/plain": [
       "      LotArea  Street  LotShape  LandSlope  OverallQual  OverallCond  \\\n",
       "0        8450       1         1          1            7            5   \n",
       "1        9600       1         1          1            6            8   \n",
       "2       11250       1         2          1            7            5   \n",
       "3        9550       1         2          1            7            5   \n",
       "4       14260       1         2          1            8            5   \n",
       "...       ...     ...       ...        ...          ...          ...   \n",
       "1455     7917       1         1          1            6            5   \n",
       "1456    13175       1         1          1            6            6   \n",
       "1457     9042       1         1          1            7            9   \n",
       "1458     9717       1         1          1            5            6   \n",
       "1459     9937       1         1          1            5            6   \n",
       "\n",
       "      MasVnrArea  ExterQual  ExterCond  BsmtQual  ...  SaleType_ConLI  \\\n",
       "0          196.0          1          2         1  ...               0   \n",
       "1            0.0          2          2         1  ...               0   \n",
       "2          162.0          1          2         1  ...               0   \n",
       "3            0.0          2          2         2  ...               0   \n",
       "4          350.0          1          2         1  ...               0   \n",
       "...          ...        ...        ...       ...  ...             ...   \n",
       "1455         0.0          2          2         1  ...               0   \n",
       "1456       119.0          2          2         1  ...               0   \n",
       "1457         0.0          3          1         2  ...               0   \n",
       "1458         0.0          2          2         2  ...               0   \n",
       "1459         0.0          1          2         2  ...               0   \n",
       "\n",
       "      SaleType_ConLw  SaleType_New  SaleType_Oth  SaleType_WD  \\\n",
       "0                  0             0             0            1   \n",
       "1                  0             0             0            1   \n",
       "2                  0             0             0            1   \n",
       "3                  0             0             0            1   \n",
       "4                  0             0             0            1   \n",
       "...              ...           ...           ...          ...   \n",
       "1455               0             0             0            1   \n",
       "1456               0             0             0            1   \n",
       "1457               0             0             0            1   \n",
       "1458               0             0             0            1   \n",
       "1459               0             0             0            1   \n",
       "\n",
       "      SaleCondition_AdjLand  SaleCondition_Alloca  SaleCondition_Family  \\\n",
       "0                         0                     0                     0   \n",
       "1                         0                     0                     0   \n",
       "2                         0                     0                     0   \n",
       "3                         0                     0                     0   \n",
       "4                         0                     0                     0   \n",
       "...                     ...                   ...                   ...   \n",
       "1455                      0                     0                     0   \n",
       "1456                      0                     0                     0   \n",
       "1457                      0                     0                     0   \n",
       "1458                      0                     0                     0   \n",
       "1459                      0                     0                     0   \n",
       "\n",
       "      SaleCondition_Normal  SaleCondition_Partial  \n",
       "0                        1                      0  \n",
       "1                        1                      0  \n",
       "2                        1                      0  \n",
       "3                        0                      0  \n",
       "4                        1                      0  \n",
       "...                    ...                    ...  \n",
       "1455                     1                      0  \n",
       "1456                     1                      0  \n",
       "1457                     1                      0  \n",
       "1458                     1                      0  \n",
       "1459                     1                      0  \n",
       "\n",
       "[1460 rows x 188 columns]"
      ]
     },
     "execution_count": 9,
     "metadata": {},
     "output_type": "execute_result"
    }
   ],
   "source": [
    "HouseData"
   ]
  },
  {
   "cell_type": "code",
   "execution_count": 10,
   "metadata": {},
   "outputs": [],
   "source": [
    "X = HouseData.drop(['SalePrice'],1)\n",
    "y = HouseData['SalePrice']"
   ]
  },
  {
   "cell_type": "code",
   "execution_count": 11,
   "metadata": {},
   "outputs": [
    {
     "data": {
      "text/html": [
       "<div>\n",
       "<style scoped>\n",
       "    .dataframe tbody tr th:only-of-type {\n",
       "        vertical-align: middle;\n",
       "    }\n",
       "\n",
       "    .dataframe tbody tr th {\n",
       "        vertical-align: top;\n",
       "    }\n",
       "\n",
       "    .dataframe thead th {\n",
       "        text-align: right;\n",
       "    }\n",
       "</style>\n",
       "<table border=\"1\" class=\"dataframe\">\n",
       "  <thead>\n",
       "    <tr style=\"text-align: right;\">\n",
       "      <th></th>\n",
       "      <th>LotArea</th>\n",
       "      <th>Street</th>\n",
       "      <th>LotShape</th>\n",
       "      <th>LandSlope</th>\n",
       "      <th>OverallQual</th>\n",
       "      <th>OverallCond</th>\n",
       "      <th>MasVnrArea</th>\n",
       "      <th>ExterQual</th>\n",
       "      <th>ExterCond</th>\n",
       "      <th>BsmtQual</th>\n",
       "      <th>...</th>\n",
       "      <th>SaleType_ConLI</th>\n",
       "      <th>SaleType_ConLw</th>\n",
       "      <th>SaleType_New</th>\n",
       "      <th>SaleType_Oth</th>\n",
       "      <th>SaleType_WD</th>\n",
       "      <th>SaleCondition_AdjLand</th>\n",
       "      <th>SaleCondition_Alloca</th>\n",
       "      <th>SaleCondition_Family</th>\n",
       "      <th>SaleCondition_Normal</th>\n",
       "      <th>SaleCondition_Partial</th>\n",
       "    </tr>\n",
       "  </thead>\n",
       "  <tbody>\n",
       "    <tr>\n",
       "      <th>0</th>\n",
       "      <td>8450</td>\n",
       "      <td>1</td>\n",
       "      <td>1</td>\n",
       "      <td>1</td>\n",
       "      <td>7</td>\n",
       "      <td>5</td>\n",
       "      <td>196.0</td>\n",
       "      <td>1</td>\n",
       "      <td>2</td>\n",
       "      <td>1</td>\n",
       "      <td>...</td>\n",
       "      <td>0</td>\n",
       "      <td>0</td>\n",
       "      <td>0</td>\n",
       "      <td>0</td>\n",
       "      <td>1</td>\n",
       "      <td>0</td>\n",
       "      <td>0</td>\n",
       "      <td>0</td>\n",
       "      <td>1</td>\n",
       "      <td>0</td>\n",
       "    </tr>\n",
       "    <tr>\n",
       "      <th>1</th>\n",
       "      <td>9600</td>\n",
       "      <td>1</td>\n",
       "      <td>1</td>\n",
       "      <td>1</td>\n",
       "      <td>6</td>\n",
       "      <td>8</td>\n",
       "      <td>0.0</td>\n",
       "      <td>2</td>\n",
       "      <td>2</td>\n",
       "      <td>1</td>\n",
       "      <td>...</td>\n",
       "      <td>0</td>\n",
       "      <td>0</td>\n",
       "      <td>0</td>\n",
       "      <td>0</td>\n",
       "      <td>1</td>\n",
       "      <td>0</td>\n",
       "      <td>0</td>\n",
       "      <td>0</td>\n",
       "      <td>1</td>\n",
       "      <td>0</td>\n",
       "    </tr>\n",
       "    <tr>\n",
       "      <th>2</th>\n",
       "      <td>11250</td>\n",
       "      <td>1</td>\n",
       "      <td>2</td>\n",
       "      <td>1</td>\n",
       "      <td>7</td>\n",
       "      <td>5</td>\n",
       "      <td>162.0</td>\n",
       "      <td>1</td>\n",
       "      <td>2</td>\n",
       "      <td>1</td>\n",
       "      <td>...</td>\n",
       "      <td>0</td>\n",
       "      <td>0</td>\n",
       "      <td>0</td>\n",
       "      <td>0</td>\n",
       "      <td>1</td>\n",
       "      <td>0</td>\n",
       "      <td>0</td>\n",
       "      <td>0</td>\n",
       "      <td>1</td>\n",
       "      <td>0</td>\n",
       "    </tr>\n",
       "    <tr>\n",
       "      <th>3</th>\n",
       "      <td>9550</td>\n",
       "      <td>1</td>\n",
       "      <td>2</td>\n",
       "      <td>1</td>\n",
       "      <td>7</td>\n",
       "      <td>5</td>\n",
       "      <td>0.0</td>\n",
       "      <td>2</td>\n",
       "      <td>2</td>\n",
       "      <td>2</td>\n",
       "      <td>...</td>\n",
       "      <td>0</td>\n",
       "      <td>0</td>\n",
       "      <td>0</td>\n",
       "      <td>0</td>\n",
       "      <td>1</td>\n",
       "      <td>0</td>\n",
       "      <td>0</td>\n",
       "      <td>0</td>\n",
       "      <td>0</td>\n",
       "      <td>0</td>\n",
       "    </tr>\n",
       "    <tr>\n",
       "      <th>4</th>\n",
       "      <td>14260</td>\n",
       "      <td>1</td>\n",
       "      <td>2</td>\n",
       "      <td>1</td>\n",
       "      <td>8</td>\n",
       "      <td>5</td>\n",
       "      <td>350.0</td>\n",
       "      <td>1</td>\n",
       "      <td>2</td>\n",
       "      <td>1</td>\n",
       "      <td>...</td>\n",
       "      <td>0</td>\n",
       "      <td>0</td>\n",
       "      <td>0</td>\n",
       "      <td>0</td>\n",
       "      <td>1</td>\n",
       "      <td>0</td>\n",
       "      <td>0</td>\n",
       "      <td>0</td>\n",
       "      <td>1</td>\n",
       "      <td>0</td>\n",
       "    </tr>\n",
       "    <tr>\n",
       "      <th>...</th>\n",
       "      <td>...</td>\n",
       "      <td>...</td>\n",
       "      <td>...</td>\n",
       "      <td>...</td>\n",
       "      <td>...</td>\n",
       "      <td>...</td>\n",
       "      <td>...</td>\n",
       "      <td>...</td>\n",
       "      <td>...</td>\n",
       "      <td>...</td>\n",
       "      <td>...</td>\n",
       "      <td>...</td>\n",
       "      <td>...</td>\n",
       "      <td>...</td>\n",
       "      <td>...</td>\n",
       "      <td>...</td>\n",
       "      <td>...</td>\n",
       "      <td>...</td>\n",
       "      <td>...</td>\n",
       "      <td>...</td>\n",
       "      <td>...</td>\n",
       "    </tr>\n",
       "    <tr>\n",
       "      <th>1455</th>\n",
       "      <td>7917</td>\n",
       "      <td>1</td>\n",
       "      <td>1</td>\n",
       "      <td>1</td>\n",
       "      <td>6</td>\n",
       "      <td>5</td>\n",
       "      <td>0.0</td>\n",
       "      <td>2</td>\n",
       "      <td>2</td>\n",
       "      <td>1</td>\n",
       "      <td>...</td>\n",
       "      <td>0</td>\n",
       "      <td>0</td>\n",
       "      <td>0</td>\n",
       "      <td>0</td>\n",
       "      <td>1</td>\n",
       "      <td>0</td>\n",
       "      <td>0</td>\n",
       "      <td>0</td>\n",
       "      <td>1</td>\n",
       "      <td>0</td>\n",
       "    </tr>\n",
       "    <tr>\n",
       "      <th>1456</th>\n",
       "      <td>13175</td>\n",
       "      <td>1</td>\n",
       "      <td>1</td>\n",
       "      <td>1</td>\n",
       "      <td>6</td>\n",
       "      <td>6</td>\n",
       "      <td>119.0</td>\n",
       "      <td>2</td>\n",
       "      <td>2</td>\n",
       "      <td>1</td>\n",
       "      <td>...</td>\n",
       "      <td>0</td>\n",
       "      <td>0</td>\n",
       "      <td>0</td>\n",
       "      <td>0</td>\n",
       "      <td>1</td>\n",
       "      <td>0</td>\n",
       "      <td>0</td>\n",
       "      <td>0</td>\n",
       "      <td>1</td>\n",
       "      <td>0</td>\n",
       "    </tr>\n",
       "    <tr>\n",
       "      <th>1457</th>\n",
       "      <td>9042</td>\n",
       "      <td>1</td>\n",
       "      <td>1</td>\n",
       "      <td>1</td>\n",
       "      <td>7</td>\n",
       "      <td>9</td>\n",
       "      <td>0.0</td>\n",
       "      <td>3</td>\n",
       "      <td>1</td>\n",
       "      <td>2</td>\n",
       "      <td>...</td>\n",
       "      <td>0</td>\n",
       "      <td>0</td>\n",
       "      <td>0</td>\n",
       "      <td>0</td>\n",
       "      <td>1</td>\n",
       "      <td>0</td>\n",
       "      <td>0</td>\n",
       "      <td>0</td>\n",
       "      <td>1</td>\n",
       "      <td>0</td>\n",
       "    </tr>\n",
       "    <tr>\n",
       "      <th>1458</th>\n",
       "      <td>9717</td>\n",
       "      <td>1</td>\n",
       "      <td>1</td>\n",
       "      <td>1</td>\n",
       "      <td>5</td>\n",
       "      <td>6</td>\n",
       "      <td>0.0</td>\n",
       "      <td>2</td>\n",
       "      <td>2</td>\n",
       "      <td>2</td>\n",
       "      <td>...</td>\n",
       "      <td>0</td>\n",
       "      <td>0</td>\n",
       "      <td>0</td>\n",
       "      <td>0</td>\n",
       "      <td>1</td>\n",
       "      <td>0</td>\n",
       "      <td>0</td>\n",
       "      <td>0</td>\n",
       "      <td>1</td>\n",
       "      <td>0</td>\n",
       "    </tr>\n",
       "    <tr>\n",
       "      <th>1459</th>\n",
       "      <td>9937</td>\n",
       "      <td>1</td>\n",
       "      <td>1</td>\n",
       "      <td>1</td>\n",
       "      <td>5</td>\n",
       "      <td>6</td>\n",
       "      <td>0.0</td>\n",
       "      <td>1</td>\n",
       "      <td>2</td>\n",
       "      <td>2</td>\n",
       "      <td>...</td>\n",
       "      <td>0</td>\n",
       "      <td>0</td>\n",
       "      <td>0</td>\n",
       "      <td>0</td>\n",
       "      <td>1</td>\n",
       "      <td>0</td>\n",
       "      <td>0</td>\n",
       "      <td>0</td>\n",
       "      <td>1</td>\n",
       "      <td>0</td>\n",
       "    </tr>\n",
       "  </tbody>\n",
       "</table>\n",
       "<p>1460 rows × 187 columns</p>\n",
       "</div>"
      ],
      "text/plain": [
       "      LotArea  Street  LotShape  LandSlope  OverallQual  OverallCond  \\\n",
       "0        8450       1         1          1            7            5   \n",
       "1        9600       1         1          1            6            8   \n",
       "2       11250       1         2          1            7            5   \n",
       "3        9550       1         2          1            7            5   \n",
       "4       14260       1         2          1            8            5   \n",
       "...       ...     ...       ...        ...          ...          ...   \n",
       "1455     7917       1         1          1            6            5   \n",
       "1456    13175       1         1          1            6            6   \n",
       "1457     9042       1         1          1            7            9   \n",
       "1458     9717       1         1          1            5            6   \n",
       "1459     9937       1         1          1            5            6   \n",
       "\n",
       "      MasVnrArea  ExterQual  ExterCond  BsmtQual  ...  SaleType_ConLI  \\\n",
       "0          196.0          1          2         1  ...               0   \n",
       "1            0.0          2          2         1  ...               0   \n",
       "2          162.0          1          2         1  ...               0   \n",
       "3            0.0          2          2         2  ...               0   \n",
       "4          350.0          1          2         1  ...               0   \n",
       "...          ...        ...        ...       ...  ...             ...   \n",
       "1455         0.0          2          2         1  ...               0   \n",
       "1456       119.0          2          2         1  ...               0   \n",
       "1457         0.0          3          1         2  ...               0   \n",
       "1458         0.0          2          2         2  ...               0   \n",
       "1459         0.0          1          2         2  ...               0   \n",
       "\n",
       "      SaleType_ConLw  SaleType_New  SaleType_Oth  SaleType_WD  \\\n",
       "0                  0             0             0            1   \n",
       "1                  0             0             0            1   \n",
       "2                  0             0             0            1   \n",
       "3                  0             0             0            1   \n",
       "4                  0             0             0            1   \n",
       "...              ...           ...           ...          ...   \n",
       "1455               0             0             0            1   \n",
       "1456               0             0             0            1   \n",
       "1457               0             0             0            1   \n",
       "1458               0             0             0            1   \n",
       "1459               0             0             0            1   \n",
       "\n",
       "      SaleCondition_AdjLand  SaleCondition_Alloca  SaleCondition_Family  \\\n",
       "0                         0                     0                     0   \n",
       "1                         0                     0                     0   \n",
       "2                         0                     0                     0   \n",
       "3                         0                     0                     0   \n",
       "4                         0                     0                     0   \n",
       "...                     ...                   ...                   ...   \n",
       "1455                      0                     0                     0   \n",
       "1456                      0                     0                     0   \n",
       "1457                      0                     0                     0   \n",
       "1458                      0                     0                     0   \n",
       "1459                      0                     0                     0   \n",
       "\n",
       "      SaleCondition_Normal  SaleCondition_Partial  \n",
       "0                        1                      0  \n",
       "1                        1                      0  \n",
       "2                        1                      0  \n",
       "3                        0                      0  \n",
       "4                        1                      0  \n",
       "...                    ...                    ...  \n",
       "1455                     1                      0  \n",
       "1456                     1                      0  \n",
       "1457                     1                      0  \n",
       "1458                     1                      0  \n",
       "1459                     1                      0  \n",
       "\n",
       "[1460 rows x 187 columns]"
      ]
     },
     "execution_count": 11,
     "metadata": {},
     "output_type": "execute_result"
    }
   ],
   "source": [
    "X"
   ]
  },
  {
   "cell_type": "code",
   "execution_count": 12,
   "metadata": {},
   "outputs": [
    {
     "data": {
      "text/plain": [
       "0       208500\n",
       "1       181500\n",
       "2       223500\n",
       "3       140000\n",
       "4       250000\n",
       "         ...  \n",
       "1455    175000\n",
       "1456    210000\n",
       "1457    266500\n",
       "1458    142125\n",
       "1459    147500\n",
       "Name: SalePrice, Length: 1460, dtype: int64"
      ]
     },
     "execution_count": 12,
     "metadata": {},
     "output_type": "execute_result"
    }
   ],
   "source": [
    "y"
   ]
  },
  {
   "cell_type": "code",
   "execution_count": 81,
   "metadata": {},
   "outputs": [],
   "source": [
    "X_train, X_test, y_train, y_test = train_test_split(X, y, test_size=0.3, random_state=0) "
   ]
  },
  {
   "cell_type": "markdown",
   "metadata": {},
   "source": [
    "# Linear Regression "
   ]
  },
  {
   "cell_type": "code",
   "execution_count": 47,
   "metadata": {
    "_cell_guid": "2d0cc958-1654-425c-90ed-1ceb9edd7186",
    "_execution_state": "idle",
    "_uuid": "7d994349237b9304b0d17719e1af077e69288229"
   },
   "outputs": [],
   "source": [
    "from sklearn import linear_model\n",
    "from sklearn.metrics import mean_squared_error, r2_score"
   ]
  },
  {
   "cell_type": "code",
   "execution_count": 48,
   "metadata": {},
   "outputs": [],
   "source": [
    "Lmodel = linear_model.LinearRegression()"
   ]
  },
  {
   "cell_type": "code",
   "execution_count": 49,
   "metadata": {
    "_cell_guid": "0a75646f-1974-40ad-a085-ff7bc08454a5",
    "_execution_state": "idle",
    "_uuid": "89e464095544a53177d5a009b914ba4c660072a7"
   },
   "outputs": [
    {
     "data": {
      "text/plain": [
       "LinearRegression()"
      ]
     },
     "execution_count": 49,
     "metadata": {},
     "output_type": "execute_result"
    }
   ],
   "source": [
    "Lmodel.fit(X_train, y_train)"
   ]
  },
  {
   "cell_type": "code",
   "execution_count": 50,
   "metadata": {},
   "outputs": [],
   "source": [
    "y_pred = Lmodel.predict(X_test)"
   ]
  },
  {
   "cell_type": "code",
   "execution_count": 51,
   "metadata": {},
   "outputs": [
    {
     "name": "stdout",
     "output_type": "stream",
     "text": [
      "Coefficients: [ 1.95839707e+00  3.28053734e+04  1.86509285e+03  3.45318449e+03\n",
      "  1.08792115e+04  5.46844467e+03  3.11969757e+01  6.38298179e+03\n",
      "  8.80094397e+02  9.59328707e+03 -9.88887488e+02  7.42827771e+02\n",
      " -1.88349665e+03  8.32039305e+00 -6.96890513e+02 -7.57622092e+00\n",
      "  3.18755838e+01  1.36682829e+03  6.35076308e+01  6.96782597e+01\n",
      " -1.60225046e+01  4.07927465e+03  1.30042019e+03  9.36518298e+01\n",
      "  1.38195132e+03  1.87354933e+01 -1.00153965e+03 -4.56161682e+03\n",
      " -5.67968322e+03  1.75839158e+01  4.24995489e+01  7.59256165e+02\n",
      " -3.30855548e+04 -5.36917246e+01  4.49511158e+03  2.11968146e+03\n",
      "  1.02033248e+04  4.89281183e+03 -5.18174519e+03 -1.75798647e+04\n",
      "  3.73561258e+04  1.81808665e+04  2.26185781e+04  2.62447604e+04\n",
      "  6.37691395e+03 -7.52146986e+03 -3.89821751e+01 -4.15163251e+04\n",
      "  4.64977445e+03 -4.00165447e+03 -1.50716362e+04 -1.90869492e+02\n",
      " -2.11548206e+04 -3.48514419e+04 -2.91232789e+04 -2.43118328e+04\n",
      " -2.27590122e+04 -1.87087313e+04 -3.93254890e+04 -2.86020458e+04\n",
      " -4.23369819e+04 -3.95186238e+04 -4.73162896e+04 -4.13685848e+04\n",
      " -2.00227648e+04 -4.39615853e+04  1.34279059e+04 -3.14259980e+03\n",
      " -4.53646110e+04 -3.82867771e+04 -3.47564928e+04 -2.32617941e+04\n",
      " -2.14995528e+04  1.25309912e+04 -2.35533078e+04 -5.27821351e+03\n",
      "  1.45569681e+03  1.22102943e+04  7.44042046e+03  2.40970666e+03\n",
      " -1.49826426e+04  5.73025176e+03  1.00980977e+04 -1.19308094e+03\n",
      "  1.35743657e+04  2.13359011e+04  2.83762347e-10 -3.59930679e+05\n",
      " -5.05643264e+04  2.91038305e-10  3.63797881e-10 -6.31221763e+03\n",
      " -7.14062489e+03 -6.61536628e+03 -6.39091681e+03  9.25704815e+03\n",
      "  4.75418294e+03  7.52211516e+03 -7.19232152e+03 -2.40960305e+03\n",
      "  1.31942927e+04 -4.40119207e+02  7.28479576e+03  1.34166897e+04\n",
      "  8.95249468e+03  2.69588249e+04  4.91415365e+04 -7.05824625e+03\n",
      "  2.14640750e-10 -1.13391042e+04 -2.01378721e+04 -3.21640718e+03\n",
      " -2.48015994e+04  6.65532292e+04  5.47957877e+02 -6.17693523e+04\n",
      " -1.64774562e+04 -1.09429297e+04 -6.07402709e+04 -3.28246024e+04\n",
      " -6.60583027e+04 -3.83289205e+04 -3.44983323e+04 -2.47393500e+04\n",
      " -2.17207290e+04 -2.87226610e+04 -3.69824161e+04 -2.63579207e+04\n",
      "  5.47957877e+02  1.86691173e+04  2.26703808e+04 -1.09429297e+04\n",
      "  5.77289788e+04  2.05403627e+04  2.87401506e+04  2.67807758e+04\n",
      "  1.51031612e+04  1.91049704e+04  2.55277161e+04  1.48665113e+04\n",
      "  2.23510948e+04  2.45414256e+04  1.16973956e+04  8.90054321e+03\n",
      "  1.57595219e+04  2.06710222e+04  7.36901582e+03  8.47431756e+03\n",
      "  2.06043824e+04  1.82862721e+04  2.72410434e+03 -2.47321830e+04\n",
      " -2.68893902e+04 -2.59532325e+04 -6.56381616e+04 -2.16378118e+04\n",
      "  2.04498453e+03  5.15345807e+03 -2.94820774e+04 -1.60604133e+04\n",
      " -1.44598990e+02  1.27313169e+04 -8.49759878e+03 -4.14590340e+03\n",
      " -3.37384432e+03  0.00000000e+00  1.11990136e+04  1.22256319e+04\n",
      "  1.32588984e+04  2.35281484e+04  2.82539608e+04  1.22630478e+04\n",
      " -4.53650955e+02 -1.50914988e+02  6.74535584e+04  1.46402998e+04\n",
      "  4.26577363e+04  3.03788983e+02  5.34238515e+03  8.44216359e+04\n",
      "  3.14993679e+04  3.52445584e+03  8.05930167e+03  1.98467030e+04\n",
      "  8.21932922e+03  6.65371389e+03 -5.38258678e+04]\n",
      "Intercept: -155949.11718872844\n",
      "Mean squared error (MSE): 1527857536.96\n",
      "Coefficient of determination (R^2): 0.77\n"
     ]
    }
   ],
   "source": [
    "print('Coefficients:', Lmodel.coef_)\n",
    "print('Intercept:', Lmodel.intercept_)\n",
    "print('Mean squared error (MSE): %.2f'\n",
    "      % mean_squared_error(y_test, y_pred))\n",
    "print('Coefficient of determination (R^2): %.2f'\n",
    "      % r2_score(y_test, y_pred))\n"
   ]
  },
  {
   "cell_type": "markdown",
   "metadata": {},
   "source": [
    "# Bayesian Ridge Regression"
   ]
  },
  {
   "cell_type": "code",
   "execution_count": 87,
   "metadata": {
    "_cell_guid": "2d0cc958-1654-425c-90ed-1ceb9edd7186",
    "_execution_state": "idle",
    "_uuid": "7d994349237b9304b0d17719e1af077e69288229"
   },
   "outputs": [],
   "source": [
    "from sklearn import linear_model\n",
    "from sklearn.metrics import mean_squared_error, r2_score"
   ]
  },
  {
   "cell_type": "code",
   "execution_count": 88,
   "metadata": {},
   "outputs": [],
   "source": [
    "BRmodel = linear_model.BayesianRidge()"
   ]
  },
  {
   "cell_type": "code",
   "execution_count": 89,
   "metadata": {
    "_cell_guid": "0a75646f-1974-40ad-a085-ff7bc08454a5",
    "_execution_state": "idle",
    "_uuid": "89e464095544a53177d5a009b914ba4c660072a7"
   },
   "outputs": [
    {
     "data": {
      "text/plain": [
       "BayesianRidge()"
      ]
     },
     "execution_count": 89,
     "metadata": {},
     "output_type": "execute_result"
    }
   ],
   "source": [
    "BRmodel.fit(X_train, y_train)"
   ]
  },
  {
   "cell_type": "code",
   "execution_count": 90,
   "metadata": {},
   "outputs": [],
   "source": [
    "y_pred = BRmodel.predict(X_test)"
   ]
  },
  {
   "cell_type": "code",
   "execution_count": 91,
   "metadata": {},
   "outputs": [
    {
     "name": "stdout",
     "output_type": "stream",
     "text": [
      "Coefficients: [ 6.69103101e-01  3.32009084e-01  4.38012311e+00 -3.26864605e-01\n",
      "  2.86277698e+01  6.31953010e+00  5.07648907e+01 -4.43502219e+00\n",
      " -4.76593492e-01  1.90386903e+00 -3.32348983e+00  7.46307559e+00\n",
      " -1.82110906e+01  2.37403627e+01 -4.29771850e+00  5.31352863e+00\n",
      "  4.57690509e+01  8.72785261e+00  2.34793735e+01  3.57305120e+01\n",
      "  3.39897660e+01  3.37459616e-01 -2.62359778e+00  4.42768147e+00\n",
      "  2.95523490e+00  8.23968444e+01 -1.53662203e+00 -2.15572073e+00\n",
      " -1.73975664e+00  3.53609193e+01  6.15022925e+01 -1.37060059e+00\n",
      " -2.68816721e-01 -4.52899658e+01  1.18153730e+00 -3.81377231e-01\n",
      "  3.83822799e+00  1.84545358e+00 -8.85664185e+00 -3.03839329e+00\n",
      "  1.27488153e+00 -4.25200964e-01  2.12459421e+00 -2.27234976e+00\n",
      "  8.34420187e-01 -2.80777900e-01  1.46557907e-01 -5.94732020e-02\n",
      "  1.21665457e+00  1.20026874e-02 -6.55734356e-03 -3.48595240e-01\n",
      "  1.02275771e-02 -1.49534481e-01  3.39801923e-01 -1.27087416e-01\n",
      "  8.55704731e-01  1.10533800e+00 -1.14845788e+00  1.36808145e+00\n",
      " -6.12534462e-01 -2.07616551e-01 -9.26320686e-01 -2.79733508e+00\n",
      "  2.30414992e-02 -1.54058421e+00  8.25242671e-01  2.97163574e+00\n",
      " -2.24615570e+00 -4.88736534e-01 -9.68223216e-01 -2.93885155e-01\n",
      "  1.63977310e+00  1.25209264e+00  3.18200119e-01  3.31787680e-01\n",
      " -1.76947271e+00  3.66624055e+00 -4.52581700e-02 -8.75068206e-01\n",
      " -4.32435965e-01  9.02208300e-02 -1.61530105e-02  8.75450226e-02\n",
      " -1.18644499e-01  8.26598691e-01  2.32405907e-16 -4.63268784e-01\n",
      " -1.30846244e-01 -3.84402824e-17  1.98021871e-16 -9.61914813e-01\n",
      " -1.63208627e+00  7.65147713e-02  1.65185271e+00  2.45691562e-01\n",
      "  3.37240840e-01  6.02011736e-04 -3.11682392e-01  1.36464531e+00\n",
      "  2.03499214e-01 -6.07434209e-04 -1.50043923e+00 -5.77197030e-02\n",
      "  1.66362042e+00 -1.10013516e-01 -8.08157055e-02 -3.79312959e-01\n",
      " -3.35809506e-16  3.05551564e-02 -1.07404006e-01 -4.47685689e-03\n",
      " -5.84516663e-02  5.19090331e-01  4.07972770e-02 -1.22618648e-01\n",
      "  6.69295319e-01 -4.43275194e-02  5.64744598e-01 -1.91504408e+00\n",
      "  1.22950160e-02 -1.45287068e+00 -1.92085596e+00  4.85708562e-02\n",
      "  1.07992167e-01  5.96671861e+00 -1.53113139e+00  5.08447439e-02\n",
      "  4.07972770e-02 -1.06224704e-01  3.43007938e-01 -4.43275194e-02\n",
      "  7.65848638e-01 -1.88248848e+00 -5.38123197e-02 -1.34266395e+00\n",
      "  4.21257416e-02 -2.22559916e+00  1.47417532e-01 -4.04884628e-01\n",
      "  5.96361877e+00 -9.62827228e-01  2.05983257e-01 -2.20523320e+00\n",
      " -1.80303023e-01  2.85877765e+00 -7.17980196e+00  8.30765004e+00\n",
      "  5.24132647e-01 -1.80744834e-03 -4.13535972e-02  4.88463902e-01\n",
      " -5.43796388e-01  3.07102486e-02 -5.73163704e-02  3.81634590e-02\n",
      "  1.70863565e+00 -1.45566374e-01 -1.02111335e-01 -7.07735222e-02\n",
      "  1.74126150e+00 -3.98736674e-02 -7.98023118e-01 -1.29109285e+00\n",
      " -5.81522317e-01 -2.34316810e-16  3.00371646e+00  3.01587406e+00\n",
      " -8.77216478e-02  1.84105520e+00 -1.12705527e-01 -3.92621373e+00\n",
      "  4.95411929e-01 -5.88894027e+00  1.38864013e-01  5.95979335e-02\n",
      " -2.15065997e-01 -8.46143532e-02  7.90736424e-02  4.26732427e+00\n",
      " -2.26501610e-02 -3.19071190e+00  2.82951055e-02  2.25672863e-01\n",
      " -4.72213969e-01 -2.02731304e+00  4.17811574e+00]\n",
      "Intercept: -26822.635476421216\n",
      "Mean squared error (MSE): 1998103583.51\n",
      "Coefficient of determination (R^2): 0.71\n"
     ]
    }
   ],
   "source": [
    "print('Coefficients:', BRmodel.coef_)\n",
    "print('Intercept:', BRmodel.intercept_)\n",
    "print('Mean squared error (MSE): %.2f'\n",
    "      % mean_squared_error(y_test, y_pred))\n",
    "print('Coefficient of determination (R^2): %.2f'\n",
    "      % r2_score(y_test, y_pred))\n"
   ]
  },
  {
   "cell_type": "markdown",
   "metadata": {},
   "source": [
    "# Lasso Regression"
   ]
  },
  {
   "cell_type": "code",
   "execution_count": 52,
   "metadata": {
    "_cell_guid": "2d0cc958-1654-425c-90ed-1ceb9edd7186",
    "_execution_state": "idle",
    "_uuid": "7d994349237b9304b0d17719e1af077e69288229"
   },
   "outputs": [],
   "source": [
    "from sklearn import linear_model\n",
    "from sklearn.metrics import mean_squared_error, r2_score\n",
    "import warnings\n",
    "warnings.filterwarnings('ignore')"
   ]
  },
  {
   "cell_type": "code",
   "execution_count": 53,
   "metadata": {},
   "outputs": [],
   "source": [
    "Lasmodel = linear_model.Lasso()"
   ]
  },
  {
   "cell_type": "code",
   "execution_count": 54,
   "metadata": {
    "_cell_guid": "0a75646f-1974-40ad-a085-ff7bc08454a5",
    "_execution_state": "idle",
    "_uuid": "89e464095544a53177d5a009b914ba4c660072a7"
   },
   "outputs": [
    {
     "data": {
      "text/plain": [
       "Lasso()"
      ]
     },
     "execution_count": 54,
     "metadata": {},
     "output_type": "execute_result"
    }
   ],
   "source": [
    "Lasmodel.fit(X_train, y_train)"
   ]
  },
  {
   "cell_type": "code",
   "execution_count": 55,
   "metadata": {},
   "outputs": [],
   "source": [
    "y_pred = Lasmodel.predict(X_test)"
   ]
  },
  {
   "cell_type": "code",
   "execution_count": 56,
   "metadata": {},
   "outputs": [
    {
     "name": "stdout",
     "output_type": "stream",
     "text": [
      "Coefficients: [ 1.93159935e+00  3.30846969e+04  1.93094628e+03  3.42714461e+03\n",
      "  1.09163495e+04  5.44317312e+03  3.08266578e+01  6.33010773e+03\n",
      "  7.51583641e+02  9.51082831e+03 -9.87864715e+02  7.84015728e+02\n",
      " -1.88817378e+03  8.53675180e+00 -6.60818965e+02 -7.31537729e+00\n",
      "  3.12631633e+01  1.45984176e+03  6.44480752e+01  6.94720503e+01\n",
      " -1.65635703e+01  4.03238276e+03  1.34208076e+03  1.62516468e+02\n",
      "  1.53239370e+03  1.78018627e+01 -9.84705357e+02 -4.41126319e+03\n",
      " -5.70004961e+03  1.78054527e+01  4.20668965e+01  7.50888264e+02\n",
      " -3.25583619e+04 -5.90046578e+01  4.59720139e+03  2.11812549e+03\n",
      "  1.02093364e+04  4.84968519e+03 -5.20018381e+03 -1.72141697e+04\n",
      "  3.65974227e+04  1.67153788e+04  2.21080197e+04  2.51182734e+04\n",
      "  6.52136684e+03 -7.12555075e+03 -4.13043046e+01 -4.00300753e+04\n",
      "  4.61558232e+03 -4.00169586e+03 -1.28943498e+04 -1.76605507e+02\n",
      " -1.73686423e+04 -3.14622981e+04 -2.49467936e+04 -2.16640749e+04\n",
      " -1.98421921e+04 -1.54071119e+04 -3.59816867e+04 -2.58385760e+04\n",
      " -3.82219182e+04 -3.61990678e+04 -4.42763219e+04 -3.78926972e+04\n",
      " -1.64413854e+04 -4.05935198e+04  1.64698299e+04 -1.40850748e+02\n",
      " -4.15376881e+04 -3.46895401e+04 -3.14709007e+04 -2.02639471e+04\n",
      " -1.82988088e+04  1.51469368e+04 -2.06782584e+04 -1.96504129e+03\n",
      "  1.19130995e+03  1.20919602e+04  6.84360694e+03  1.96285890e+03\n",
      " -1.49562911e+04  5.51161262e+03  9.45651069e+03 -1.19627428e+03\n",
      "  9.26460229e+03  1.89323659e+04  0.00000000e+00 -3.60862014e+05\n",
      " -4.83662440e+04  0.00000000e+00  0.00000000e+00 -6.56960110e+03\n",
      " -6.92669959e+03 -5.73656234e+03 -5.35583803e+03  8.64517395e+03\n",
      "  4.33593263e+03  8.27916739e+03 -6.69724882e+03 -1.99440312e+03\n",
      "  1.30182601e+04 -3.52725314e+02  3.31822238e+03  8.89609771e+03\n",
      "  5.15700920e+03  2.22346144e+04  4.21799871e+04  1.95843145e+03\n",
      "  0.00000000e+00 -5.00947981e+03 -8.53051276e+03  2.11663434e+03\n",
      " -1.43862896e+04  7.54506296e+04  0.00000000e+00 -4.67962784e+04\n",
      " -5.69262454e+03 -1.36612400e+03 -4.86500832e+04 -2.10474583e+04\n",
      " -5.32635188e+04 -2.62101505e+04 -2.27708985e+04 -1.34584377e+04\n",
      " -1.09720336e+04 -1.78308071e+04 -2.58948349e+04 -1.47956332e+04\n",
      "  0.00000000e+00  6.50338587e+03  1.29032363e+04 -1.84280249e+04\n",
      "  4.69958728e+04  1.02657157e+04  1.85500992e+04  1.59273594e+04\n",
      "  4.62307232e+03  8.82947053e+03  1.52990693e+04  6.02529010e+03\n",
      "  1.30508577e+04  1.47157522e+04  1.41746269e+03  8.43216195e+03\n",
      "  1.51977060e+04  1.99302117e+04  7.07454583e+03  8.32189718e+03\n",
      "  2.03305295e+04  1.78744271e+04  2.29237047e+03 -1.77994327e+04\n",
      " -2.01890130e+04 -1.90089537e+04 -5.84641346e+04 -1.41036159e+04\n",
      "  1.56171743e+03  4.67212941e+03 -2.77715827e+04 -1.15908436e+04\n",
      "  3.26131528e+01  9.73740711e+03 -8.09352002e+03 -3.42554347e+03\n",
      " -3.07348480e+03  0.00000000e+00  1.14664675e+04  9.13756971e+03\n",
      "  1.00188153e+04  2.05632361e+04  2.23925544e+04  9.00781066e+03\n",
      " -6.19247522e+02 -1.07061466e+02  6.56277176e+04  1.32003750e+04\n",
      "  4.24062139e+04  1.54026297e+02  4.89576628e+03  8.29601541e+04\n",
      "  3.04380377e+04  3.30808422e+03  7.97918941e+03  1.94170346e+04\n",
      "  7.73719173e+03  6.76969065e+03 -5.23511340e+04]\n",
      "Intercept: -165774.0785846863\n",
      "Mean squared error (MSE): 1499821204.96\n",
      "Coefficient of determination (R^2): 0.78\n"
     ]
    }
   ],
   "source": [
    "print('Coefficients:', Lasmodel.coef_)\n",
    "print('Intercept:', Lasmodel.intercept_)\n",
    "print('Mean squared error (MSE): %.2f'\n",
    "      % mean_squared_error(y_test, y_pred))\n",
    "print('Coefficient of determination (R^2): %.2f'\n",
    "      % r2_score(y_test, y_pred))\n"
   ]
  },
  {
   "cell_type": "markdown",
   "metadata": {},
   "source": [
    "# Elastic Net Regression"
   ]
  },
  {
   "cell_type": "code",
   "execution_count": 57,
   "metadata": {
    "_cell_guid": "2d0cc958-1654-425c-90ed-1ceb9edd7186",
    "_execution_state": "idle",
    "_uuid": "7d994349237b9304b0d17719e1af077e69288229"
   },
   "outputs": [],
   "source": [
    "from sklearn import linear_model\n",
    "from sklearn.metrics import mean_squared_error, r2_score\n",
    "import warnings\n",
    "warnings.filterwarnings('ignore')"
   ]
  },
  {
   "cell_type": "code",
   "execution_count": 58,
   "metadata": {},
   "outputs": [],
   "source": [
    "ENmodel = linear_model.ElasticNet()"
   ]
  },
  {
   "cell_type": "code",
   "execution_count": 59,
   "metadata": {
    "_cell_guid": "0a75646f-1974-40ad-a085-ff7bc08454a5",
    "_execution_state": "idle",
    "_uuid": "89e464095544a53177d5a009b914ba4c660072a7"
   },
   "outputs": [
    {
     "data": {
      "text/plain": [
       "ElasticNet()"
      ]
     },
     "execution_count": 59,
     "metadata": {},
     "output_type": "execute_result"
    }
   ],
   "source": [
    "ENmodel.fit(X_train, y_train)"
   ]
  },
  {
   "cell_type": "code",
   "execution_count": 60,
   "metadata": {},
   "outputs": [],
   "source": [
    "y_pred = ENmodel.predict(X_test)"
   ]
  },
  {
   "cell_type": "code",
   "execution_count": 61,
   "metadata": {},
   "outputs": [
    {
     "name": "stdout",
     "output_type": "stream",
     "text": [
      "Coefficients: [ 1.15388725e+00  2.51150627e+02  1.98361881e+03  1.24140419e+02\n",
      "  1.08259921e+04  3.32028479e+03  4.18842291e+01 -1.57025723e+02\n",
      "  4.35878660e+01  3.59404521e+03 -1.37311723e+03  1.50871854e+03\n",
      " -3.07374542e+03  7.09014896e+00 -1.83233605e+03 -1.07028514e+01\n",
      "  3.93713833e+01  2.39297271e+03  1.98486982e+01  2.40485818e+01\n",
      "  3.67670946e+01  2.26824677e+03 -3.64335600e+02  2.06368306e+03\n",
      "  1.35260459e+03  3.93907213e+01 -8.58898854e+02 -1.29743040e+03\n",
      " -1.28831669e+03  2.86025581e+01  2.84012434e+01 -4.49482465e+00\n",
      " -2.84509477e+02 -9.88089195e+01  3.34497517e+02 -2.27666241e+02\n",
      "  1.97325534e+03  1.19052652e+03 -3.57399948e+03 -1.64227849e+03\n",
      "  1.03872438e+03 -1.90814154e+02  1.07556408e+03 -1.38450924e+03\n",
      "  6.79415680e+02 -6.09604193e+00  5.84521798e+01 -8.99902342e+01\n",
      "  9.52892075e+02 -2.05793958e+02 -3.36708618e+01 -1.28535746e+02\n",
      "  1.68793839e+01 -4.14955404e+00  4.87009934e+02  3.35122689e+01\n",
      " -5.11874057e+02  1.06274100e+03 -7.51834983e+02  2.31966484e+02\n",
      " -4.76092950e+02  6.56722281e+00 -9.23154224e+02 -1.47399630e+03\n",
      "  7.70523231e+01 -1.30478085e+03  1.13832929e+03  2.22064391e+03\n",
      " -1.47167249e+03 -3.26162256e+02 -4.29018772e+02 -2.26274919e+02\n",
      "  1.09533357e+03  1.07125138e+03 -2.56144621e+01  2.78857011e+02\n",
      " -9.83696870e+02  3.11405439e+03 -7.92280332e+01 -8.30486649e+02\n",
      " -4.23752137e+02 -1.26899811e+02 -1.26649366e+01 -2.27663383e+01\n",
      " -1.37840550e+02  9.21609274e+02  0.00000000e+00 -6.24185165e+02\n",
      " -1.05383982e+02  0.00000000e+00  0.00000000e+00 -4.24901021e+02\n",
      " -7.73920635e+02  1.16950246e+02  8.96543575e+02  1.87054153e+02\n",
      "  4.88980504e+02  5.10941952e+01 -3.08022525e+02  4.55475666e+02\n",
      "  2.40295853e+02 -1.27146224e+02 -8.89216657e+02 -1.58674459e+00\n",
      "  1.07796869e+03 -5.08604639e+01 -8.22033916e+01 -4.02202140e+02\n",
      "  0.00000000e+00  8.57783817e+00 -5.98862480e+01 -1.09589081e+02\n",
      " -1.57601264e+02  7.22700895e+02  1.62379780e+01 -1.19921584e+02\n",
      "  1.00537094e+03 -3.97258363e+01  4.89105902e+02 -8.12077576e+02\n",
      " -4.39398118e+00 -3.99532264e+02 -8.99681042e+02 -5.42475639e+01\n",
      "  1.98838206e+02  1.80164423e+03 -1.11609896e+03  4.90179584e+01\n",
      "  1.62379780e+01 -8.56022548e+01  4.30692045e+02 -3.97258363e+01\n",
      "  6.75984462e+02 -8.24805430e+02 -1.08636965e+01 -3.11942352e+02\n",
      "  3.54774976e+01 -1.02306790e+03  1.48676288e+02 -1.54782178e+02\n",
      "  1.75287522e+03 -3.96791022e+02 -1.14403207e+02 -1.97750531e+03\n",
      "  9.38470821e+02  1.48836681e+03 -2.45507905e+03  3.16935673e+03\n",
      "  5.11327944e+02  2.13065558e+01 -1.40801344e+01  2.40799468e+02\n",
      " -2.69575362e+02  9.30236454e+00 -1.08228307e+02  6.77205394e+01\n",
      "  8.54138235e+02  1.03998795e+02 -9.54511277e+01 -5.19017565e+01\n",
      "  5.26647484e+02 -2.04251732e+01 -6.19070065e+02 -7.13260589e+02\n",
      " -3.76124752e+02  0.00000000e+00  1.87683331e+03  6.16891081e+02\n",
      " -1.29886923e+02  1.23104503e+03  2.78704131e+00 -1.30908835e+03\n",
      " -6.16991739e+02 -2.05873360e+03  1.18033580e+02  4.60061439e+01\n",
      " -3.65028970e+01 -4.24286943e+01  1.69420555e+00  2.84666196e+03\n",
      "  7.91633006e-01 -1.87473667e+03  1.90791281e+01  2.66441623e+02\n",
      " -2.71046005e+02 -6.68117312e+02  2.67696724e+03]\n",
      "Intercept: -58585.49601420347\n",
      "Mean squared error (MSE): 1313804705.21\n",
      "Coefficient of determination (R^2): 0.81\n"
     ]
    }
   ],
   "source": [
    "print('Coefficients:', ENmodel.coef_)\n",
    "print('Intercept:', ENmodel.intercept_)\n",
    "print('Mean squared error (MSE): %.2f'\n",
    "      % mean_squared_error(y_test, y_pred))\n",
    "print('Coefficient of determination (R^2): %.2f'\n",
    "      % r2_score(y_test, y_pred))\n"
   ]
  },
  {
   "cell_type": "markdown",
   "metadata": {},
   "source": [
    "# Kernel Ridge Regression"
   ]
  },
  {
   "cell_type": "code",
   "execution_count": 82,
   "metadata": {
    "_cell_guid": "2d0cc958-1654-425c-90ed-1ceb9edd7186",
    "_execution_state": "idle",
    "_uuid": "7d994349237b9304b0d17719e1af077e69288229"
   },
   "outputs": [],
   "source": [
    "from sklearn.kernel_ridge import KernelRidge\n",
    "from sklearn.metrics import mean_squared_error, r2_score\n",
    "import warnings\n",
    "warnings.filterwarnings('ignore')"
   ]
  },
  {
   "cell_type": "code",
   "execution_count": 83,
   "metadata": {},
   "outputs": [],
   "source": [
    "KRmodel = KernelRidge()"
   ]
  },
  {
   "cell_type": "code",
   "execution_count": 84,
   "metadata": {
    "_cell_guid": "0a75646f-1974-40ad-a085-ff7bc08454a5",
    "_execution_state": "idle",
    "_uuid": "89e464095544a53177d5a009b914ba4c660072a7"
   },
   "outputs": [
    {
     "data": {
      "text/plain": [
       "KernelRidge()"
      ]
     },
     "execution_count": 84,
     "metadata": {},
     "output_type": "execute_result"
    }
   ],
   "source": [
    "KRmodel.fit(X_train, y_train)"
   ]
  },
  {
   "cell_type": "code",
   "execution_count": 85,
   "metadata": {},
   "outputs": [],
   "source": [
    "y_pred = KRmodel.predict(X_test)"
   ]
  },
  {
   "cell_type": "code",
   "execution_count": 86,
   "metadata": {},
   "outputs": [
    {
     "name": "stdout",
     "output_type": "stream",
     "text": [
      "Mean squared error (MSE): 1293313860.52\n",
      "Coefficient of determination (R^2): 0.81\n"
     ]
    }
   ],
   "source": [
    "\n",
    "print('Mean squared error (MSE): %.2f'\n",
    "      % mean_squared_error(y_test, y_pred))\n",
    "print('Coefficient of determination (R^2): %.2f'\n",
    "      % r2_score(y_test, y_pred))\n"
   ]
  },
  {
   "cell_type": "markdown",
   "metadata": {},
   "source": [
    "# Random Forest Regression"
   ]
  },
  {
   "cell_type": "code",
   "execution_count": 92,
   "metadata": {
    "_cell_guid": "2d0cc958-1654-425c-90ed-1ceb9edd7186",
    "_execution_state": "idle",
    "_uuid": "7d994349237b9304b0d17719e1af077e69288229"
   },
   "outputs": [],
   "source": [
    "from sklearn.ensemble import RandomForestRegressor\n",
    "from sklearn.metrics import mean_squared_error, r2_score\n",
    "import warnings\n",
    "warnings.filterwarnings('ignore')"
   ]
  },
  {
   "cell_type": "code",
   "execution_count": 93,
   "metadata": {},
   "outputs": [],
   "source": [
    "RFmodel = RandomForestRegressor()"
   ]
  },
  {
   "cell_type": "code",
   "execution_count": 94,
   "metadata": {
    "_cell_guid": "0a75646f-1974-40ad-a085-ff7bc08454a5",
    "_execution_state": "idle",
    "_uuid": "89e464095544a53177d5a009b914ba4c660072a7"
   },
   "outputs": [
    {
     "data": {
      "text/plain": [
       "RandomForestRegressor()"
      ]
     },
     "execution_count": 94,
     "metadata": {},
     "output_type": "execute_result"
    }
   ],
   "source": [
    "RFmodel.fit(X_train, y_train)"
   ]
  },
  {
   "cell_type": "code",
   "execution_count": 95,
   "metadata": {},
   "outputs": [],
   "source": [
    "y_pred = RFmodel.predict(X_test)"
   ]
  },
  {
   "cell_type": "code",
   "execution_count": 97,
   "metadata": {},
   "outputs": [
    {
     "name": "stdout",
     "output_type": "stream",
     "text": [
      "Mean squared error (MSE): 950144149.81\n",
      "Coefficient of determination (R^2): 0.86\n"
     ]
    }
   ],
   "source": [
    "\n",
    "print('Mean squared error (MSE): %.2f'\n",
    "      % mean_squared_error(y_test, y_pred))\n",
    "print('Coefficient of determination (R^2): %.2f'\n",
    "      % r2_score(y_test, y_pred))\n"
   ]
  },
  {
   "cell_type": "markdown",
   "metadata": {},
   "source": [
    "# Gradient Boosting Regression"
   ]
  },
  {
   "cell_type": "code",
   "execution_count": 99,
   "metadata": {
    "_cell_guid": "2d0cc958-1654-425c-90ed-1ceb9edd7186",
    "_execution_state": "idle",
    "_uuid": "7d994349237b9304b0d17719e1af077e69288229"
   },
   "outputs": [],
   "source": [
    "from sklearn.ensemble import GradientBoostingRegressor\n",
    "from sklearn.metrics import mean_squared_error, r2_score\n",
    "import warnings\n",
    "warnings.filterwarnings('ignore')"
   ]
  },
  {
   "cell_type": "code",
   "execution_count": 100,
   "metadata": {},
   "outputs": [],
   "source": [
    "GBmodel = GradientBoostingRegressor()"
   ]
  },
  {
   "cell_type": "code",
   "execution_count": 101,
   "metadata": {
    "_cell_guid": "0a75646f-1974-40ad-a085-ff7bc08454a5",
    "_execution_state": "idle",
    "_uuid": "89e464095544a53177d5a009b914ba4c660072a7"
   },
   "outputs": [
    {
     "data": {
      "text/plain": [
       "GradientBoostingRegressor()"
      ]
     },
     "execution_count": 101,
     "metadata": {},
     "output_type": "execute_result"
    }
   ],
   "source": [
    "GBmodel.fit(X_train, y_train)"
   ]
  },
  {
   "cell_type": "code",
   "execution_count": 102,
   "metadata": {},
   "outputs": [],
   "source": [
    "y_pred = GBmodel.predict(X_test)"
   ]
  },
  {
   "cell_type": "code",
   "execution_count": 103,
   "metadata": {},
   "outputs": [
    {
     "name": "stdout",
     "output_type": "stream",
     "text": [
      "Mean squared error (MSE): 933419674.53\n",
      "Coefficient of determination (R^2): 0.86\n"
     ]
    }
   ],
   "source": [
    "\n",
    "print('Mean squared error (MSE): %.2f'\n",
    "      % mean_squared_error(y_test, y_pred))\n",
    "print('Coefficient of determination (R^2): %.2f'\n",
    "      % r2_score(y_test, y_pred))\n"
   ]
  },
  {
   "cell_type": "code",
   "execution_count": null,
   "metadata": {},
   "outputs": [],
   "source": []
  },
  {
   "cell_type": "code",
   "execution_count": null,
   "metadata": {},
   "outputs": [],
   "source": []
  }
 ],
 "metadata": {
  "kernelspec": {
   "display_name": "Python 3",
   "language": "python",
   "name": "python3"
  },
  "language_info": {
   "codemirror_mode": {
    "name": "ipython",
    "version": 3
   },
   "file_extension": ".py",
   "mimetype": "text/x-python",
   "name": "python",
   "nbconvert_exporter": "python",
   "pygments_lexer": "ipython3",
   "version": "3.8.3"
  }
 },
 "nbformat": 4,
 "nbformat_minor": 4
}
